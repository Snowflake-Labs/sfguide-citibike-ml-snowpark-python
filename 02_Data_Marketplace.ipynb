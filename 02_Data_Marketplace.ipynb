{
 "cells": [
  {
   "cell_type": "markdown",
   "id": "304d0e14",
   "metadata": {},
   "source": [
    "## Snowflake Data Marketplace  \n",
    "\n",
    "Later in this hands-on-lab we will be using weather data from the Snowflake Data Marketplace for input to our forecasting models.  \n",
    "\n",
    "Weather Source is a leading provider of global weather and climate data and the OnPoint Product Suite provides businesses with the necessary weather and climate data to quickly generate meaningful and actionable insights for a wide range of use cases across industries.\n",
    "\n",
    "Weather Source powers a majority of Fortune companies who use their data to quantify the impact of weather and climate on various KPIs including footfall traffic, product sales and demand, supply chain and logistics, advertising and more. "
   ]
  },
  {
   "cell_type": "markdown",
   "id": "172b95c0",
   "metadata": {},
   "source": [
    "### 1. Browse the Marketplace\n",
    "Log in to the Snowflake UI with the `Jack` user and password created in step 00-Setup.  \n",
    "  \n",
    "Click on [Marketplace](https://app.snowflake.com/marketplace) on the left side bar.\n",
    "\n",
    "You will see many different types of data ranging from finance and trading to COVID statistics and geospatial datasets.  \n",
    "  \n",
    "Search for `Snowpark` in the search bar at the top. And select the tile named [Snowpark for Python - Hands-on-Lab - Weather Data](https://app.snowflake.com/marketplace/listing/GZSOZ1LLE9)."
   ]
  },
  {
   "cell_type": "markdown",
   "id": "5c844e2f",
   "metadata": {},
   "source": [
    "![Weather Source Tile for Snowpark Hands-on-Lab](include/images/weathersource_tile.png)"
   ]
  },
  {
   "cell_type": "markdown",
   "id": "d03a12ee",
   "metadata": {},
   "source": [
    "This dataset is provided by Weather Source for the Snowpark hands-on-lab and provides OnPoint Historical Weather Data in daily format for New York City ZIP Code - 10007.  \n",
    "  \n",
    "The sample data is in Celcius and covers the time period from June 1, 2013 to present. The data is updated daily and includes the following supported weather parameters: precipitation, temperature, wind speed & direction and humidity."
   ]
  },
  {
   "cell_type": "markdown",
   "id": "ee1ee90e",
   "metadata": {},
   "source": [
    "- Click on `Get Data` on the right side.  \n",
    "- Enter `WEATHER` for the database name.  \n",
    "- Select `PUBLIC` for the role access.  \n",
    "- Read the terms and conditions and click on `Get Data`."
   ]
  },
  {
   "cell_type": "markdown",
   "id": "1080a3ec",
   "metadata": {},
   "source": [
    "![Weather Source Data](include/images/weathersource_getdata.png)"
   ]
  },
  {
   "cell_type": "markdown",
   "id": "35b231df",
   "metadata": {},
   "source": [
    "Click on Data on the left side bar and you will see a new WEATHER database has been created.  \n",
    "  \n",
    "Alternatively this subsription can be accomplished with the following commands.  (Note that approval of terms is implied):"
   ]
  },
  {
   "cell_type": "code",
   "execution_count": 1,
   "id": "2efcd571",
   "metadata": {},
   "outputs": [],
   "source": [
    "# from dags.snowpark_connection import snowpark_connect\n",
    "# session, state_dict = snowpark_connect()\n",
    "\n",
    "# listing_id = 'zy74494.WEATHERSOURCE_SNOWFLAKE_SNOWPARK_TILE_SNOWFLAKE_SECURE_SHARE_1651768630709'\n",
    "# session.sql(\"CREATE OR REPLACE DATABASE WEATHER FROM SHARE \"+listing_id).collect()\n",
    "\n",
    "# session.close()"
   ]
  },
  {
   "cell_type": "code",
   "execution_count": null,
   "id": "a29d6c3e",
   "metadata": {},
   "outputs": [],
   "source": []
  }
 ],
 "metadata": {
  "kernelspec": {
   "display_name": "snowpark_070:Python",
   "language": "python",
   "name": "conda-env-snowpark_070-py"
  },
  "language_info": {
   "codemirror_mode": {
    "name": "ipython",
    "version": 3
   },
   "file_extension": ".py",
   "mimetype": "text/x-python",
   "name": "python",
   "nbconvert_exporter": "python",
   "pygments_lexer": "ipython3",
   "version": "3.8.12"
  }
 },
 "nbformat": 4,
 "nbformat_minor": 5
}
