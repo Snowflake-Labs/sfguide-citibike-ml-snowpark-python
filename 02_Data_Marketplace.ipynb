{
 "cells": [
  {
   "cell_type": "markdown",
   "id": "304d0e14",
   "metadata": {},
   "source": [
    "## Snowflake Data Marketplace  \n",
    "\n",
    "Later in this hands-on-lab we will be using weather data from the Snowflake Data Marketplace for input to our forecasting models.  \n",
    "\n",
    "Weather Source is a leading provider of global weather and climate data and the OnPoint Product Suite provides businesses with the necessary weather and climate data to quickly generate meaningful and actionable insights for a wide range of use cases across industries.\n",
    "\n",
    "Weather Source powers a majority of Fortune companies who use their data to quantify the impact of weather and climate on various KPIs including footfall traffic, product sales and demand, supply chain and logistics, advertising and more. "
   ]
  },
  {
   "cell_type": "markdown",
   "id": "172b95c0",
   "metadata": {},
   "source": [
    "### 1. Browse the Marketplace\n",
    "Log in to the Snowflake UI with the `Jack` user and password created in step 00-Setup.  \n",
    "  \n",
    "Click on [Marketplace](https://app.snowflake.com/marketplace) on the left side bar.\n",
    "\n",
    "You will see many different types of data ranging from finance and trading to COVID statistics and geospatial datasets.  \n",
    "  \n",
    "Search for `Snowpark` in the search bar at the top. And select the tile named [Snowpark for Python - Hands-on-Lab - Weather Data](https://app.snowflake.com/marketplace/listing/GZSOZ1LLE9)."
   ]
  },
  {
   "cell_type": "markdown",
   "id": "5c844e2f",
   "metadata": {},
   "source": [
    "<img src=\"./include/images/weathersource_tile.png\" width=\"800\" />"
   ]
  },
  {
   "cell_type": "markdown",
   "id": "d03a12ee",
   "metadata": {},
   "source": [
    "This dataset is provided by Weather Source for the Snowpark hands-on-lab and provides OnPoint Historical Weather Data in daily format for New York City ZIP Code - 10007.  \n",
    "  \n",
    "The sample data is in Celcius and covers the time period from June 1, 2013 to present. The data is updated daily and includes the following supported weather parameters: precipitation, temperature, wind speed & direction and humidity."
   ]
  },
  {
   "cell_type": "markdown",
   "id": "ee1ee90e",
   "metadata": {},
   "source": [
    "- Click on `Get Data` on the right side.  \n",
    "- Enter `WEATHER_NYC` for the database name.  \n",
    "- Select `PUBLIC` for the role access if not already selected.  \n",
    "- Read the terms and conditions and click on `Get Data`."
   ]
  },
  {
   "cell_type": "markdown",
   "id": "1080a3ec",
   "metadata": {},
   "source": [
    "<img src=\"./include/images/weathersource_getdata.png\" width=\"800\" />"
   ]
  },
  {
   "cell_type": "markdown",
   "id": "35b231df",
   "metadata": {},
   "source": [
    "Click on Data on the left side bar and you will see a new WEATHER database has been created.  \n",
    "\n",
    "Note: The weather data has a different prefix, depending on the the region used.  \n",
    "  \n",
    "You can capture the listing ID programatically:"
   ]
  },
  {
   "cell_type": "code",
   "execution_count": null,
   "id": "d17b63d2",
   "metadata": {},
   "outputs": [],
   "source": [
    "from dags.snowpark_connection import snowpark_connect\n",
    "session, state_dict = snowpark_connect()\n",
    "\n",
    "weather_listing_id = session.sql(\"show shares like '%WEATHERSOURCE_SNOWFLAKE_SNOWPARK_TILE_SNOWFLAKE_SECURE_SHARE%'\").collect()[0][2]\n",
    "weather_listing_id"
   ]
  },
  {
   "cell_type": "markdown",
   "id": "3e160891",
   "metadata": {},
   "source": [
    "After accepting the subsription terms the shared data can also be programatically subscribed to via the following commands:"
   ]
  },
  {
   "cell_type": "code",
   "execution_count": null,
   "id": "2efcd571",
   "metadata": {},
   "outputs": [],
   "source": [
    "session.sql(\"CREATE OR REPLACE DATABASE\"+ WEATHER \"FROM SHARE \"+weather_listing_id).collect()"
   ]
  },
  {
   "cell_type": "markdown",
   "id": "f32e039e",
   "metadata": {},
   "source": [
    "And we will save the listing ID in the state.json"
   ]
  },
  {
   "cell_type": "code",
   "execution_count": null,
   "id": "7c6cd370",
   "metadata": {},
   "outputs": [],
   "source": [
    "state_dict['weather_listing_id'] = weather_listing_id\n",
    "\n",
    "import json\n",
    "with open('./include/state.json', 'w') as sdf:\n",
    "    json.dump(state_dict, sdf)"
   ]
  },
  {
   "cell_type": "code",
   "execution_count": null,
   "id": "f41e65ba",
   "metadata": {},
   "outputs": [],
   "source": [
    "session.close()"
   ]
  },
  {
   "cell_type": "markdown",
   "id": "b7f526f4",
   "metadata": {},
   "source": [
    "Alternatively you can search the entire marketplace by parsing the json output"
   ]
  },
  {
   "cell_type": "code",
   "execution_count": null,
   "id": "919d9148",
   "metadata": {},
   "outputs": [],
   "source": [
    "#_ = session.sql(\"SHOW AVAILABLE LISTINGS IN DATA EXCHANGE SNOWFLAKE_DATA_MARKETPLACE;\").collect()\n",
    "#listing = session.sql(\"SELECT \\\"share_name\\\" FROM TABLE(result_scan()) WHERE PARSE_JSON(\\\"metadata\\\"):title LIKE '%Snowpark%Hands%Weather%'; \").collect()[0]['share_name']"
   ]
  },
  {
   "cell_type": "code",
   "execution_count": null,
   "id": "22033d60",
   "metadata": {},
   "outputs": [],
   "source": []
  }
 ],
 "metadata": {
  "kernelspec": {
   "display_name": "snowpark_070:Python",
   "language": "python",
   "name": "conda-env-snowpark_070-py"
  },
  "language_info": {
   "codemirror_mode": {
    "name": "ipython",
    "version": 3
   },
   "file_extension": ".py",
   "mimetype": "text/x-python",
   "name": "python",
   "nbconvert_exporter": "python",
   "pygments_lexer": "ipython3",
   "version": "3.8.12"
  }
 },
 "nbformat": 4,
 "nbformat_minor": 5
}
